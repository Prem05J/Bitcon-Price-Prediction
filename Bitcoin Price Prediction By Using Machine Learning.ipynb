{
 "cells": [
  {
   "cell_type": "code",
   "execution_count": 122,
   "metadata": {},
   "outputs": [],
   "source": [
    "#Import Dependencies\n",
    "import pandas as pd\n",
    "import numpy as np"
   ]
  },
  {
   "cell_type": "code",
   "execution_count": 98,
   "metadata": {},
   "outputs": [],
   "source": [
    "#Import dataset \n",
    "df = pd.read_csv('D:/Downloads/BTC-USD.csv')"
   ]
  },
  {
   "cell_type": "code",
   "execution_count": 99,
   "metadata": {},
   "outputs": [
    {
     "data": {
      "text/html": [
       "<div>\n",
       "<style scoped>\n",
       "    .dataframe tbody tr th:only-of-type {\n",
       "        vertical-align: middle;\n",
       "    }\n",
       "\n",
       "    .dataframe tbody tr th {\n",
       "        vertical-align: top;\n",
       "    }\n",
       "\n",
       "    .dataframe thead th {\n",
       "        text-align: right;\n",
       "    }\n",
       "</style>\n",
       "<table border=\"1\" class=\"dataframe\">\n",
       "  <thead>\n",
       "    <tr style=\"text-align: right;\">\n",
       "      <th></th>\n",
       "      <th>Date</th>\n",
       "      <th>Open</th>\n",
       "      <th>High</th>\n",
       "      <th>Low</th>\n",
       "      <th>Close</th>\n",
       "      <th>Adj Close</th>\n",
       "      <th>Volume</th>\n",
       "    </tr>\n",
       "  </thead>\n",
       "  <tbody>\n",
       "    <tr>\n",
       "      <th>0</th>\n",
       "      <td>2019-12-18</td>\n",
       "      <td>6647.698242</td>\n",
       "      <td>7324.984863</td>\n",
       "      <td>6540.049316</td>\n",
       "      <td>7276.802734</td>\n",
       "      <td>7276.802734</td>\n",
       "      <td>31836522778</td>\n",
       "    </tr>\n",
       "    <tr>\n",
       "      <th>1</th>\n",
       "      <td>2019-12-19</td>\n",
       "      <td>7277.590820</td>\n",
       "      <td>7346.602539</td>\n",
       "      <td>7041.381836</td>\n",
       "      <td>7202.844238</td>\n",
       "      <td>7202.844238</td>\n",
       "      <td>25904604415</td>\n",
       "    </tr>\n",
       "    <tr>\n",
       "      <th>2</th>\n",
       "      <td>2019-12-20</td>\n",
       "      <td>7208.636719</td>\n",
       "      <td>7257.921875</td>\n",
       "      <td>7086.124023</td>\n",
       "      <td>7218.816406</td>\n",
       "      <td>7218.816406</td>\n",
       "      <td>22633815180</td>\n",
       "    </tr>\n",
       "    <tr>\n",
       "      <th>3</th>\n",
       "      <td>2019-12-21</td>\n",
       "      <td>7220.593750</td>\n",
       "      <td>7223.226074</td>\n",
       "      <td>7112.735840</td>\n",
       "      <td>7191.158691</td>\n",
       "      <td>7191.158691</td>\n",
       "      <td>19312552168</td>\n",
       "    </tr>\n",
       "    <tr>\n",
       "      <th>4</th>\n",
       "      <td>2019-12-22</td>\n",
       "      <td>7191.188477</td>\n",
       "      <td>7518.033203</td>\n",
       "      <td>7167.179199</td>\n",
       "      <td>7511.588867</td>\n",
       "      <td>7511.588867</td>\n",
       "      <td>23134537956</td>\n",
       "    </tr>\n",
       "    <tr>\n",
       "      <th>...</th>\n",
       "      <td>...</td>\n",
       "      <td>...</td>\n",
       "      <td>...</td>\n",
       "      <td>...</td>\n",
       "      <td>...</td>\n",
       "      <td>...</td>\n",
       "      <td>...</td>\n",
       "    </tr>\n",
       "    <tr>\n",
       "      <th>362</th>\n",
       "      <td>2020-12-14</td>\n",
       "      <td>19144.492188</td>\n",
       "      <td>19305.099609</td>\n",
       "      <td>19012.708984</td>\n",
       "      <td>19246.644531</td>\n",
       "      <td>19246.644531</td>\n",
       "      <td>22473997681</td>\n",
       "    </tr>\n",
       "    <tr>\n",
       "      <th>363</th>\n",
       "      <td>2020-12-15</td>\n",
       "      <td>19246.919922</td>\n",
       "      <td>19525.007813</td>\n",
       "      <td>19079.841797</td>\n",
       "      <td>19417.076172</td>\n",
       "      <td>19417.076172</td>\n",
       "      <td>26741982541</td>\n",
       "    </tr>\n",
       "    <tr>\n",
       "      <th>364</th>\n",
       "      <td>2020-12-16</td>\n",
       "      <td>19418.818359</td>\n",
       "      <td>21458.908203</td>\n",
       "      <td>19298.316406</td>\n",
       "      <td>21310.597656</td>\n",
       "      <td>21310.597656</td>\n",
       "      <td>44409011479</td>\n",
       "    </tr>\n",
       "    <tr>\n",
       "      <th>365</th>\n",
       "      <td>2020-12-17</td>\n",
       "      <td>21308.351563</td>\n",
       "      <td>23642.660156</td>\n",
       "      <td>21234.675781</td>\n",
       "      <td>22805.162109</td>\n",
       "      <td>22805.162109</td>\n",
       "      <td>71378606374</td>\n",
       "    </tr>\n",
       "    <tr>\n",
       "      <th>366</th>\n",
       "      <td>2020-12-18</td>\n",
       "      <td>23088.000000</td>\n",
       "      <td>23234.296875</td>\n",
       "      <td>22429.613281</td>\n",
       "      <td>22695.804688</td>\n",
       "      <td>22695.804688</td>\n",
       "      <td>49224278016</td>\n",
       "    </tr>\n",
       "  </tbody>\n",
       "</table>\n",
       "<p>367 rows × 7 columns</p>\n",
       "</div>"
      ],
      "text/plain": [
       "           Date          Open          High           Low         Close  \\\n",
       "0    2019-12-18   6647.698242   7324.984863   6540.049316   7276.802734   \n",
       "1    2019-12-19   7277.590820   7346.602539   7041.381836   7202.844238   \n",
       "2    2019-12-20   7208.636719   7257.921875   7086.124023   7218.816406   \n",
       "3    2019-12-21   7220.593750   7223.226074   7112.735840   7191.158691   \n",
       "4    2019-12-22   7191.188477   7518.033203   7167.179199   7511.588867   \n",
       "..          ...           ...           ...           ...           ...   \n",
       "362  2020-12-14  19144.492188  19305.099609  19012.708984  19246.644531   \n",
       "363  2020-12-15  19246.919922  19525.007813  19079.841797  19417.076172   \n",
       "364  2020-12-16  19418.818359  21458.908203  19298.316406  21310.597656   \n",
       "365  2020-12-17  21308.351563  23642.660156  21234.675781  22805.162109   \n",
       "366  2020-12-18  23088.000000  23234.296875  22429.613281  22695.804688   \n",
       "\n",
       "        Adj Close       Volume  \n",
       "0     7276.802734  31836522778  \n",
       "1     7202.844238  25904604415  \n",
       "2     7218.816406  22633815180  \n",
       "3     7191.158691  19312552168  \n",
       "4     7511.588867  23134537956  \n",
       "..            ...          ...  \n",
       "362  19246.644531  22473997681  \n",
       "363  19417.076172  26741982541  \n",
       "364  21310.597656  44409011479  \n",
       "365  22805.162109  71378606374  \n",
       "366  22695.804688  49224278016  \n",
       "\n",
       "[367 rows x 7 columns]"
      ]
     },
     "execution_count": 99,
     "metadata": {},
     "output_type": "execute_result"
    }
   ],
   "source": [
    "df"
   ]
  },
  {
   "cell_type": "code",
   "execution_count": 100,
   "metadata": {},
   "outputs": [],
   "source": [
    "#Drop columns\n",
    "df.drop(['Date' , 'Open' , 'High' , 'Low' , 'Adj Close' , 'Volume'], inplace = True , axis = 1 )"
   ]
  },
  {
   "cell_type": "code",
   "execution_count": 101,
   "metadata": {},
   "outputs": [],
   "source": [
    "Prediction_days = 30\n",
    "df['Prediction'] = df['Close'].shift(-Prediction_days)"
   ]
  },
  {
   "cell_type": "code",
   "execution_count": 102,
   "metadata": {},
   "outputs": [
    {
     "data": {
      "text/html": [
       "<div>\n",
       "<style scoped>\n",
       "    .dataframe tbody tr th:only-of-type {\n",
       "        vertical-align: middle;\n",
       "    }\n",
       "\n",
       "    .dataframe tbody tr th {\n",
       "        vertical-align: top;\n",
       "    }\n",
       "\n",
       "    .dataframe thead th {\n",
       "        text-align: right;\n",
       "    }\n",
       "</style>\n",
       "<table border=\"1\" class=\"dataframe\">\n",
       "  <thead>\n",
       "    <tr style=\"text-align: right;\">\n",
       "      <th></th>\n",
       "      <th>Close</th>\n",
       "      <th>Prediction</th>\n",
       "    </tr>\n",
       "  </thead>\n",
       "  <tbody>\n",
       "    <tr>\n",
       "      <th>0</th>\n",
       "      <td>7276.802734</td>\n",
       "      <td>8929.038086</td>\n",
       "    </tr>\n",
       "    <tr>\n",
       "      <th>1</th>\n",
       "      <td>7202.844238</td>\n",
       "      <td>8942.808594</td>\n",
       "    </tr>\n",
       "    <tr>\n",
       "      <th>2</th>\n",
       "      <td>7218.816406</td>\n",
       "      <td>8706.245117</td>\n",
       "    </tr>\n",
       "    <tr>\n",
       "      <th>3</th>\n",
       "      <td>7191.158691</td>\n",
       "      <td>8657.642578</td>\n",
       "    </tr>\n",
       "    <tr>\n",
       "      <th>4</th>\n",
       "      <td>7511.588867</td>\n",
       "      <td>8745.894531</td>\n",
       "    </tr>\n",
       "    <tr>\n",
       "      <th>...</th>\n",
       "      <td>...</td>\n",
       "      <td>...</td>\n",
       "    </tr>\n",
       "    <tr>\n",
       "      <th>362</th>\n",
       "      <td>19246.644531</td>\n",
       "      <td>NaN</td>\n",
       "    </tr>\n",
       "    <tr>\n",
       "      <th>363</th>\n",
       "      <td>19417.076172</td>\n",
       "      <td>NaN</td>\n",
       "    </tr>\n",
       "    <tr>\n",
       "      <th>364</th>\n",
       "      <td>21310.597656</td>\n",
       "      <td>NaN</td>\n",
       "    </tr>\n",
       "    <tr>\n",
       "      <th>365</th>\n",
       "      <td>22805.162109</td>\n",
       "      <td>NaN</td>\n",
       "    </tr>\n",
       "    <tr>\n",
       "      <th>366</th>\n",
       "      <td>22695.804688</td>\n",
       "      <td>NaN</td>\n",
       "    </tr>\n",
       "  </tbody>\n",
       "</table>\n",
       "<p>367 rows × 2 columns</p>\n",
       "</div>"
      ],
      "text/plain": [
       "            Close   Prediction\n",
       "0     7276.802734  8929.038086\n",
       "1     7202.844238  8942.808594\n",
       "2     7218.816406  8706.245117\n",
       "3     7191.158691  8657.642578\n",
       "4     7511.588867  8745.894531\n",
       "..            ...          ...\n",
       "362  19246.644531          NaN\n",
       "363  19417.076172          NaN\n",
       "364  21310.597656          NaN\n",
       "365  22805.162109          NaN\n",
       "366  22695.804688          NaN\n",
       "\n",
       "[367 rows x 2 columns]"
      ]
     },
     "execution_count": 102,
     "metadata": {},
     "output_type": "execute_result"
    }
   ],
   "source": [
    "df"
   ]
  },
  {
   "cell_type": "code",
   "execution_count": 103,
   "metadata": {},
   "outputs": [
    {
     "data": {
      "text/html": [
       "<div>\n",
       "<style scoped>\n",
       "    .dataframe tbody tr th:only-of-type {\n",
       "        vertical-align: middle;\n",
       "    }\n",
       "\n",
       "    .dataframe tbody tr th {\n",
       "        vertical-align: top;\n",
       "    }\n",
       "\n",
       "    .dataframe thead th {\n",
       "        text-align: right;\n",
       "    }\n",
       "</style>\n",
       "<table border=\"1\" class=\"dataframe\">\n",
       "  <thead>\n",
       "    <tr style=\"text-align: right;\">\n",
       "      <th></th>\n",
       "      <th>Close</th>\n",
       "      <th>Prediction</th>\n",
       "    </tr>\n",
       "  </thead>\n",
       "  <tbody>\n",
       "    <tr>\n",
       "      <th>30</th>\n",
       "      <td>8929.038086</td>\n",
       "      <td>9934.433594</td>\n",
       "    </tr>\n",
       "    <tr>\n",
       "      <th>31</th>\n",
       "      <td>8942.808594</td>\n",
       "      <td>9690.142578</td>\n",
       "    </tr>\n",
       "    <tr>\n",
       "      <th>32</th>\n",
       "      <td>8706.245117</td>\n",
       "      <td>10141.996094</td>\n",
       "    </tr>\n",
       "    <tr>\n",
       "      <th>33</th>\n",
       "      <td>8657.642578</td>\n",
       "      <td>9633.386719</td>\n",
       "    </tr>\n",
       "    <tr>\n",
       "      <th>34</th>\n",
       "      <td>8745.894531</td>\n",
       "      <td>9608.475586</td>\n",
       "    </tr>\n",
       "    <tr>\n",
       "      <th>35</th>\n",
       "      <td>8680.875977</td>\n",
       "      <td>9686.441406</td>\n",
       "    </tr>\n",
       "    <tr>\n",
       "      <th>36</th>\n",
       "      <td>8406.515625</td>\n",
       "      <td>9663.181641</td>\n",
       "    </tr>\n",
       "    <tr>\n",
       "      <th>37</th>\n",
       "      <td>8445.434570</td>\n",
       "      <td>9924.515625</td>\n",
       "    </tr>\n",
       "    <tr>\n",
       "      <th>38</th>\n",
       "      <td>8367.847656</td>\n",
       "      <td>9650.174805</td>\n",
       "    </tr>\n",
       "    <tr>\n",
       "      <th>39</th>\n",
       "      <td>8596.830078</td>\n",
       "      <td>9341.705078</td>\n",
       "    </tr>\n",
       "    <tr>\n",
       "      <th>40</th>\n",
       "      <td>8909.819336</td>\n",
       "      <td>8820.522461</td>\n",
       "    </tr>\n",
       "    <tr>\n",
       "      <th>41</th>\n",
       "      <td>9358.589844</td>\n",
       "      <td>8784.494141</td>\n",
       "    </tr>\n",
       "    <tr>\n",
       "      <th>42</th>\n",
       "      <td>9316.629883</td>\n",
       "      <td>8672.455078</td>\n",
       "    </tr>\n",
       "    <tr>\n",
       "      <th>43</th>\n",
       "      <td>9508.993164</td>\n",
       "      <td>8599.508789</td>\n",
       "    </tr>\n",
       "    <tr>\n",
       "      <th>44</th>\n",
       "      <td>9350.529297</td>\n",
       "      <td>8562.454102</td>\n",
       "    </tr>\n",
       "    <tr>\n",
       "      <th>45</th>\n",
       "      <td>9392.875000</td>\n",
       "      <td>8869.669922</td>\n",
       "    </tr>\n",
       "    <tr>\n",
       "      <th>46</th>\n",
       "      <td>9344.365234</td>\n",
       "      <td>8787.786133</td>\n",
       "    </tr>\n",
       "    <tr>\n",
       "      <th>47</th>\n",
       "      <td>9293.521484</td>\n",
       "      <td>8755.246094</td>\n",
       "    </tr>\n",
       "    <tr>\n",
       "      <th>48</th>\n",
       "      <td>9180.962891</td>\n",
       "      <td>9078.762695</td>\n",
       "    </tr>\n",
       "    <tr>\n",
       "      <th>49</th>\n",
       "      <td>9613.423828</td>\n",
       "      <td>9122.545898</td>\n",
       "    </tr>\n",
       "  </tbody>\n",
       "</table>\n",
       "</div>"
      ],
      "text/plain": [
       "          Close    Prediction\n",
       "30  8929.038086   9934.433594\n",
       "31  8942.808594   9690.142578\n",
       "32  8706.245117  10141.996094\n",
       "33  8657.642578   9633.386719\n",
       "34  8745.894531   9608.475586\n",
       "35  8680.875977   9686.441406\n",
       "36  8406.515625   9663.181641\n",
       "37  8445.434570   9924.515625\n",
       "38  8367.847656   9650.174805\n",
       "39  8596.830078   9341.705078\n",
       "40  8909.819336   8820.522461\n",
       "41  9358.589844   8784.494141\n",
       "42  9316.629883   8672.455078\n",
       "43  9508.993164   8599.508789\n",
       "44  9350.529297   8562.454102\n",
       "45  9392.875000   8869.669922\n",
       "46  9344.365234   8787.786133\n",
       "47  9293.521484   8755.246094\n",
       "48  9180.962891   9078.762695\n",
       "49  9613.423828   9122.545898"
      ]
     },
     "execution_count": 103,
     "metadata": {},
     "output_type": "execute_result"
    }
   ],
   "source": [
    "df.iloc[30:50]"
   ]
  },
  {
   "cell_type": "code",
   "execution_count": 104,
   "metadata": {},
   "outputs": [],
   "source": [
    "X = np.array(df.drop(['Prediction'],axis = 1))\n",
    "X = X[:len(df)-Prediction_days]"
   ]
  },
  {
   "cell_type": "code",
   "execution_count": 105,
   "metadata": {},
   "outputs": [
    {
     "data": {
      "text/plain": [
       "337"
      ]
     },
     "execution_count": 105,
     "metadata": {},
     "output_type": "execute_result"
    }
   ],
   "source": [
    "len(X)"
   ]
  },
  {
   "cell_type": "code",
   "execution_count": 106,
   "metadata": {},
   "outputs": [],
   "source": [
    "Y = np.array(df['Prediction'])\n",
    "Y = Y[:-Prediction_days]"
   ]
  },
  {
   "cell_type": "code",
   "execution_count": 107,
   "metadata": {},
   "outputs": [
    {
     "data": {
      "text/plain": [
       "337"
      ]
     },
     "execution_count": 107,
     "metadata": {},
     "output_type": "execute_result"
    }
   ],
   "source": [
    "len(Y)"
   ]
  },
  {
   "cell_type": "code",
   "execution_count": 108,
   "metadata": {},
   "outputs": [],
   "source": [
    "from sklearn.model_selection import train_test_split\n",
    "x_train , x_test , y_train , y_test = train_test_split(X ,Y , test_size= 0.2)"
   ]
  },
  {
   "cell_type": "code",
   "execution_count": 110,
   "metadata": {},
   "outputs": [
    {
     "name": "stdout",
     "output_type": "stream",
     "text": [
      "[[17817.089844]\n",
      " [18621.314453]\n",
      " [18642.232422]\n",
      " [18370.001953]\n",
      " [18364.121094]\n",
      " [19107.464844]\n",
      " [18732.121094]\n",
      " [17150.623047]\n",
      " [17108.402344]\n",
      " [17717.414063]\n",
      " [18177.484375]\n",
      " [19625.835938]\n",
      " [18802.998047]\n",
      " [19201.091797]\n",
      " [19445.398438]\n",
      " [18699.765625]\n",
      " [19154.230469]\n",
      " [19345.121094]\n",
      " [19191.630859]\n",
      " [18321.144531]\n",
      " [18553.916016]\n",
      " [18264.992188]\n",
      " [18058.904297]\n",
      " [18803.65625 ]\n",
      " [19142.382813]\n",
      " [19246.644531]\n",
      " [19417.076172]\n",
      " [21310.597656]\n",
      " [22805.162109]\n",
      " [22695.804688]]\n"
     ]
    }
   ],
   "source": [
    "prediction_date_array = np.array(df.drop(['Prediction'] , 1))[-Prediction_days : ]\n",
    "print(prediction_date_array)"
   ]
  },
  {
   "cell_type": "code",
   "execution_count": 111,
   "metadata": {},
   "outputs": [],
   "source": [
    "from sklearn.svm import SVR"
   ]
  },
  {
   "cell_type": "code",
   "execution_count": 112,
   "metadata": {},
   "outputs": [
    {
     "data": {
      "text/plain": [
       "SVR(C=1000.0, gamma=1e-05)"
      ]
     },
     "execution_count": 112,
     "metadata": {},
     "output_type": "execute_result"
    }
   ],
   "source": [
    "svr_rbf = SVR(kernel = 'rbf' , C = 1e3 , gamma = 0.00001)\n",
    "svr_rbf.fit(x_train , y_train) "
   ]
  },
  {
   "cell_type": "code",
   "execution_count": 113,
   "metadata": {},
   "outputs": [
    {
     "data": {
      "text/plain": [
       "0.5642296496399846"
      ]
     },
     "execution_count": 113,
     "metadata": {},
     "output_type": "execute_result"
    }
   ],
   "source": [
    "svr_rbf.score(x_test , y_test)"
   ]
  },
  {
   "cell_type": "code",
   "execution_count": 114,
   "metadata": {},
   "outputs": [
    {
     "name": "stdout",
     "output_type": "stream",
     "text": [
      "[ 9191.81873869  9506.98571362 12461.80723488  9102.903663\n",
      "  9312.74811523 10481.97018526  9180.75163741 10041.34513968\n",
      "  8470.85464715 14542.69453491 14392.75975742  9209.01532125\n",
      "  9732.42575436 10502.49628392 13677.19584231  9096.63292902\n",
      "  9876.69899369 11547.82236883  9333.30284896  8537.23369401\n",
      "  9731.18551952  9418.28823628  9339.92433503  9896.39001391\n",
      "  9098.43797383  9169.29137678 10460.79917181  9166.28653515\n",
      "  8199.14000358  9276.37043924  8214.73095802  9632.73040945\n",
      " 10130.76561725  9721.83170542  8765.7026489   9954.09064344\n",
      "  9983.55775804  9156.58450349 10483.95488049  9185.58258424\n",
      " 13407.72218531 11377.36435823 14847.77873993  9100.62016366\n",
      "  9376.81752527 11948.6276407   9488.02543665 10446.85271857\n",
      "  9450.24576107 11182.51945733  8266.17808779 10475.10239031\n",
      "  9183.85807832 10478.63369798 10474.81975334 11886.08953414\n",
      "  9490.04686152  9582.87499697  9459.2039463   9437.8967367\n",
      "  9105.32019332 14300.77078061 10711.35194988  9317.51730171\n",
      " 10375.25591215 14341.41856796  9702.25711097  9213.22970468]\n",
      "\n",
      "[ 5830.254883  9608.475586 13437.882813  9733.72168   9350.529297\n",
      " 11053.614258  9475.277344  7176.414551  8864.766602 17150.623047\n",
      " 18802.998047  9081.761719  9374.887695 11425.899414 19246.644531\n",
      "  9276.5       9856.611328 10245.296875  9450.702148  9328.197266\n",
      "  9934.433594  8784.494141 11747.022461 11754.045898 11592.489258\n",
      "  8756.430664 17804.005859  9252.277344  8801.038086  9726.575195\n",
      "  8658.553711  9313.610352  9800.636719 11079.46582   8897.46875\n",
      "  9663.181641  9795.943359  9209.287109 12254.402344  9375.474609\n",
      " 13780.995117 16716.111328 18177.484375  9123.410156  9182.577148\n",
      " 11555.363281  9795.700195 11205.892578  6242.193848 16276.34375\n",
      "  7679.867188 10944.585938  9480.254883 10538.459961  9905.166992\n",
      " 11483.359375  6733.387207  9386.788086  8562.454102  9321.78125\n",
      "  9132.227539 19154.230469 10242.347656  9508.993164 11768.871094\n",
      " 19345.121094  9633.386719  9522.981445]\n"
     ]
    }
   ],
   "source": [
    "predict = svr_rbf.predict(x_test)\n",
    "print(predict)\n",
    "print()\n",
    "\n",
    "print(y_test)"
   ]
  },
  {
   "cell_type": "code",
   "execution_count": 117,
   "metadata": {},
   "outputs": [],
   "source": [
    "prediction_last_30days = svr_rbf.predict(prediction_date_array)"
   ]
  },
  {
   "cell_type": "code",
   "execution_count": 123,
   "metadata": {},
   "outputs": [
    {
     "name": "stdout",
     "output_type": "stream",
     "text": [
      "BITCOIN PRICE FOR FUTURE DAYS\n",
      "[13041.22469399 11299.54280178 11299.15049879 11344.07848134\n",
      " 11347.3242296  11298.21390339 11298.40284482 11551.49135057\n",
      " 11579.58562246 13175.48893599 11605.03076293 11298.21386105\n",
      " 11298.26169975 11298.21386442 11298.21386105 11298.55627722\n",
      " 11298.21387327 11298.2138611  11298.21386543 11377.56444559\n",
      " 11302.08552919 11439.15476271 12001.30032898 11298.26107143\n",
      " 11298.21387786 11298.21386197 11298.21386106 11298.21386105\n",
      " 11298.21386105 11298.21386105]\n",
      "\n",
      "            Close  Prediction\n",
      "337  17817.089844         NaN\n",
      "338  18621.314453         NaN\n",
      "339  18642.232422         NaN\n",
      "340  18370.001953         NaN\n",
      "341  18364.121094         NaN\n",
      "342  19107.464844         NaN\n",
      "343  18732.121094         NaN\n",
      "344  17150.623047         NaN\n",
      "345  17108.402344         NaN\n",
      "346  17717.414063         NaN\n",
      "347  18177.484375         NaN\n",
      "348  19625.835938         NaN\n",
      "349  18802.998047         NaN\n",
      "350  19201.091797         NaN\n",
      "351  19445.398438         NaN\n",
      "352  18699.765625         NaN\n",
      "353  19154.230469         NaN\n",
      "354  19345.121094         NaN\n",
      "355  19191.630859         NaN\n",
      "356  18321.144531         NaN\n",
      "357  18553.916016         NaN\n",
      "358  18264.992188         NaN\n",
      "359  18058.904297         NaN\n",
      "360  18803.656250         NaN\n",
      "361  19142.382813         NaN\n",
      "362  19246.644531         NaN\n",
      "363  19417.076172         NaN\n",
      "364  21310.597656         NaN\n",
      "365  22805.162109         NaN\n",
      "366  22695.804688         NaN\n"
     ]
    }
   ],
   "source": [
    "print('BITCOIN PRICE FOR FUTURE DAYS')\n",
    "print(prediction_last_30days)\n",
    "\n",
    "print()\n",
    "\n",
    "print(df.tail(Prediction_days))"
   ]
  }
 ],
 "metadata": {
  "kernelspec": {
   "display_name": "Python 3",
   "language": "python",
   "name": "python3"
  },
  "language_info": {
   "codemirror_mode": {
    "name": "ipython",
    "version": 3
   },
   "file_extension": ".py",
   "mimetype": "text/x-python",
   "name": "python",
   "nbconvert_exporter": "python",
   "pygments_lexer": "ipython3",
   "version": "3.8.3"
  }
 },
 "nbformat": 4,
 "nbformat_minor": 4
}
